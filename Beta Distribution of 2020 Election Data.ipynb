{
 "cells": [
  {
   "cell_type": "code",
   "execution_count": 1,
   "metadata": {},
   "outputs": [],
   "source": [
    "from scipy import stats\n",
    "import numpy as np\n",
    "import pandas as pd\n",
    "import seaborn as sns\n",
    "import matplotlib.pyplot as plt\n",
    "%matplotlib inline"
   ]
  },
  {
   "cell_type": "markdown",
   "metadata": {},
   "source": [
    "I decided not to include data of third-party candidates."
   ]
  },
  {
   "cell_type": "code",
   "execution_count": 2,
   "metadata": {},
   "outputs": [],
   "source": [
    "# 2020\n",
    "electoral_votes = [306/(306+232), 232/(306+232)]"
   ]
  },
  {
   "cell_type": "code",
   "execution_count": 3,
   "metadata": {},
   "outputs": [],
   "source": [
    "#2016\n",
    "electoral_votes.append(304/(304+227+7))\n",
    "electoral_votes.append(227/(304+227+7))\n",
    "# electoral_votes.append(7/(304+227+7))"
   ]
  },
  {
   "cell_type": "code",
   "execution_count": 4,
   "metadata": {},
   "outputs": [],
   "source": [
    "#2012\n",
    "electoral_votes.append(332/(332+206))\n",
    "electoral_votes.append(206/(332+206))"
   ]
  },
  {
   "cell_type": "code",
   "execution_count": 5,
   "metadata": {},
   "outputs": [],
   "source": [
    "#2008\n",
    "electoral_votes.append(365/(365+173))\n",
    "electoral_votes.append(173/(365+173))"
   ]
  },
  {
   "cell_type": "code",
   "execution_count": 6,
   "metadata": {},
   "outputs": [],
   "source": [
    "#2004\n",
    "electoral_votes.append(286/(286+251))\n",
    "electoral_votes.append(251/(286+251))"
   ]
  },
  {
   "cell_type": "code",
   "execution_count": 7,
   "metadata": {},
   "outputs": [],
   "source": [
    "#2000\n",
    "electoral_votes.append(271/(271+266+1))\n",
    "electoral_votes.append(266/(271+266+1))\n",
    "# electoral_votes.append(1/(271+266+1))"
   ]
  },
  {
   "cell_type": "code",
   "execution_count": 8,
   "metadata": {},
   "outputs": [],
   "source": [
    "#1996\n",
    "electoral_votes.append(379/(379+159))\n",
    "electoral_votes.append(159/(379+159))"
   ]
  },
  {
   "cell_type": "code",
   "execution_count": 9,
   "metadata": {},
   "outputs": [],
   "source": [
    "#1992\n",
    "electoral_votes.append(370/(370+168))\n",
    "electoral_votes.append(168/(370+168))"
   ]
  },
  {
   "cell_type": "code",
   "execution_count": 10,
   "metadata": {},
   "outputs": [],
   "source": [
    "#1988\n",
    "electoral_votes.append(426/(426+111+1))\n",
    "electoral_votes.append(111/(426+111+1))\n",
    "# electoral_votes.append(1/(426+111+1))"
   ]
  },
  {
   "cell_type": "code",
   "execution_count": 11,
   "metadata": {},
   "outputs": [],
   "source": [
    "#1984\n",
    "electoral_votes.append(525/(525+13))\n",
    "electoral_votes.append(13/(525+13))"
   ]
  },
  {
   "cell_type": "code",
   "execution_count": 12,
   "metadata": {},
   "outputs": [],
   "source": [
    "#1980\n",
    "electoral_votes.append(489/(489+49))\n",
    "electoral_votes.append(49/(489+49))"
   ]
  },
  {
   "cell_type": "code",
   "execution_count": 13,
   "metadata": {},
   "outputs": [],
   "source": [
    "#1976\n",
    "electoral_votes.append(297/(297+240+1))\n",
    "electoral_votes.append(240/(297+240+1))\n",
    "# electoral_votes.append(1/(297+240+1))"
   ]
  },
  {
   "cell_type": "code",
   "execution_count": 14,
   "metadata": {},
   "outputs": [],
   "source": [
    "#1972\n",
    "electoral_votes.append(520/(520+17))\n",
    "# electoral_votes.append(17/(520+17))"
   ]
  },
  {
   "cell_type": "code",
   "execution_count": 15,
   "metadata": {},
   "outputs": [],
   "source": [
    "#1968\n",
    "electoral_votes.append(301/(301+191+46))\n",
    "electoral_votes.append(191/(301+191+46))\n",
    "electoral_votes.append(46/(301+191+46))"
   ]
  },
  {
   "cell_type": "code",
   "execution_count": 16,
   "metadata": {},
   "outputs": [],
   "source": [
    "#1964\n",
    "electoral_votes.append(486/(486+52))\n",
    "electoral_votes.append(52/(486+52))"
   ]
  },
  {
   "cell_type": "code",
   "execution_count": 17,
   "metadata": {},
   "outputs": [],
   "source": [
    "#1960\n",
    "electoral_votes.append(303/(303+219+15))\n",
    "electoral_votes.append(219/(303+219+15))\n",
    "# electoral_votes.append(15/(303+219+15))"
   ]
  },
  {
   "cell_type": "code",
   "execution_count": 18,
   "metadata": {},
   "outputs": [],
   "source": [
    "#1956\n",
    "electoral_votes.append(457/(457+73+1))\n",
    "electoral_votes.append(73/(457+73+1))\n",
    "# electoral_votes.append(1/(457+73+1))"
   ]
  },
  {
   "cell_type": "code",
   "execution_count": 19,
   "metadata": {},
   "outputs": [],
   "source": [
    "#1952\n",
    "electoral_votes.append(442/(442+89))\n",
    "electoral_votes.append(89/(442+89))"
   ]
  },
  {
   "cell_type": "code",
   "execution_count": 20,
   "metadata": {},
   "outputs": [],
   "source": [
    "#1948\n",
    "electoral_votes.append(303/(303+189+39))\n",
    "electoral_votes.append(189/(303+189+39))\n",
    "# electoral_votes.append(39/(303+189+39))"
   ]
  },
  {
   "cell_type": "code",
   "execution_count": 21,
   "metadata": {},
   "outputs": [],
   "source": [
    "#1944\n",
    "electoral_votes.append(432/(432+99))\n",
    "electoral_votes.append(99/(432+99))"
   ]
  },
  {
   "cell_type": "code",
   "execution_count": 22,
   "metadata": {},
   "outputs": [],
   "source": [
    "#1940\n",
    "electoral_votes.append(449/(449+82))\n",
    "electoral_votes.append(82/(449+82))"
   ]
  },
  {
   "cell_type": "code",
   "execution_count": 23,
   "metadata": {},
   "outputs": [],
   "source": [
    "#1936\n",
    "electoral_votes.append(523/(523+8))\n",
    "electoral_votes.append(8/(523+8))"
   ]
  },
  {
   "cell_type": "code",
   "execution_count": 24,
   "metadata": {},
   "outputs": [],
   "source": [
    "#1932\n",
    "electoral_votes.append(472/(472+59))\n",
    "electoral_votes.append(59/(472+59))"
   ]
  },
  {
   "cell_type": "code",
   "execution_count": 25,
   "metadata": {},
   "outputs": [],
   "source": [
    "#1928\n",
    "electoral_votes.append(444/(444+87))\n",
    "electoral_votes.append(87/(444+87))"
   ]
  },
  {
   "cell_type": "code",
   "execution_count": 26,
   "metadata": {},
   "outputs": [],
   "source": [
    "#1924\n",
    "electoral_votes.append(382/(382+136+13))\n",
    "electoral_votes.append(136/(382+136+13))\n",
    "# electoral_votes.append(13/(382+136+13))"
   ]
  },
  {
   "cell_type": "code",
   "execution_count": 27,
   "metadata": {},
   "outputs": [],
   "source": [
    "#1920\n",
    "electoral_votes.append(404/(404+127))\n",
    "electoral_votes.append(127/(404+127))"
   ]
  },
  {
   "cell_type": "code",
   "execution_count": 28,
   "metadata": {},
   "outputs": [],
   "source": [
    "#1916\n",
    "electoral_votes.append(277/(277+254))\n",
    "electoral_votes.append(254/(277+254))"
   ]
  },
  {
   "cell_type": "code",
   "execution_count": 29,
   "metadata": {},
   "outputs": [],
   "source": [
    "#1912\n",
    "electoral_votes.append(435/(435+88+8))\n",
    "electoral_votes.append(88/(435+88+8))"
   ]
  },
  {
   "cell_type": "code",
   "execution_count": 30,
   "metadata": {},
   "outputs": [],
   "source": [
    "# pd.DataFrame(electoral_votes).to_csv('data/presidential_election_data.csv')"
   ]
  },
  {
   "cell_type": "code",
   "execution_count": 31,
   "metadata": {},
   "outputs": [],
   "source": [
    "# df = pd.read_csv('data/presidential_election_data.csv', index_col='Unnamed: 0')"
   ]
  },
  {
   "cell_type": "code",
   "execution_count": 32,
   "metadata": {},
   "outputs": [],
   "source": [
    "# electoral_votes = list(df['0'])"
   ]
  },
  {
   "cell_type": "code",
   "execution_count": 33,
   "metadata": {},
   "outputs": [
    {
     "data": {
      "text/plain": [
       "(array([ 7.,  8.,  8., 13.,  5.,  8.,  7.]),\n",
       " array([0.01506591, 0.15361851, 0.29217111, 0.4307237 , 0.5692763 ,\n",
       "        0.70782889, 0.84638149, 0.98493409]),\n",
       " <BarContainer object of 7 artists>)"
      ]
     },
     "execution_count": 33,
     "metadata": {},
     "output_type": "execute_result"
    },
    {
     "data": {
      "image/png": "[encoded data removed]",
      "text/plain": [
       "<Figure size 432x288 with 1 Axes>"
      ]
     },
     "metadata": {
      "needs_background": "light"
     },
     "output_type": "display_data"
    }
   ],
   "source": [
    "plt.hist(electoral_votes, bins='auto')"
   ]
  },
  {
   "cell_type": "code",
   "execution_count": 34,
   "metadata": {},
   "outputs": [
    {
     "data": {
      "text/plain": [
       "{'whiskers': [<matplotlib.lines.Line2D at 0x7fd6e398cb20>,\n",
       "  <matplotlib.lines.Line2D at 0x7fd6e398ce80>],\n",
       " 'caps': [<matplotlib.lines.Line2D at 0x7fd6e399b220>,\n",
       "  <matplotlib.lines.Line2D at 0x7fd6e399b580>],\n",
       " 'boxes': [<matplotlib.lines.Line2D at 0x7fd6e398c7c0>],\n",
       " 'medians': [<matplotlib.lines.Line2D at 0x7fd6e399b8e0>],\n",
       " 'fliers': [<matplotlib.lines.Line2D at 0x7fd6e399bc40>],\n",
       " 'means': []}"
      ]
     },
     "execution_count": 34,
     "metadata": {},
     "output_type": "execute_result"
    },
    {
     "data": {
      "image/png": "[encoded data removed]",
      "text/plain": [
       "<Figure size 432x288 with 1 Axes>"
      ]
     },
     "metadata": {
      "needs_background": "light"
     },
     "output_type": "display_data"
    }
   ],
   "source": [
    "plt.boxplot(electoral_votes)"
   ]
  },
  {
   "cell_type": "code",
   "execution_count": 35,
   "metadata": {},
   "outputs": [],
   "source": [
    "zscores = np.abs(stats.zscore(electoral_votes))"
   ]
  },
  {
   "cell_type": "code",
   "execution_count": 36,
   "metadata": {},
   "outputs": [
    {
     "data": {
      "text/plain": [
       "(array([], dtype=int64),)"
      ]
     },
     "execution_count": 36,
     "metadata": {},
     "output_type": "execute_result"
    }
   ],
   "source": [
    "np.where(zscores >= 3)"
   ]
  },
  {
   "cell_type": "markdown",
   "metadata": {},
   "source": [
    "Boxplot and z-score test both confirm no outliers."
   ]
  },
  {
   "cell_type": "code",
   "execution_count": 37,
   "metadata": {},
   "outputs": [
    {
     "data": {
      "text/plain": [
       "0.2798348001185414"
      ]
     },
     "execution_count": 37,
     "metadata": {},
     "output_type": "execute_result"
    }
   ],
   "source": [
    "np.sqrt(np.var(electoral_votes))"
   ]
  },
  {
   "cell_type": "code",
   "execution_count": 38,
   "metadata": {},
   "outputs": [],
   "source": [
    "attempt = stats.beta.fit(electoral_votes, loc=0, scale=1)"
   ]
  },
  {
   "cell_type": "code",
   "execution_count": 39,
   "metadata": {},
   "outputs": [
    {
     "data": {
      "text/plain": [
       "(1.0323207519628161,\n",
       " 0.9750971347366113,\n",
       " 0.0008912803054408681,\n",
       " 0.9840428063235611)"
      ]
     },
     "execution_count": 39,
     "metadata": {},
     "output_type": "execute_result"
    }
   ],
   "source": [
    "attempt"
   ]
  },
  {
   "cell_type": "code",
   "execution_count": 40,
   "metadata": {},
   "outputs": [],
   "source": [
    "alpha, beta = attempt[0:2]"
   ]
  },
  {
   "cell_type": "code",
   "execution_count": 41,
   "metadata": {},
   "outputs": [
    {
     "data": {
      "text/plain": [
       "0.5142530405864548"
      ]
     },
     "execution_count": 41,
     "metadata": {},
     "output_type": "execute_result"
    }
   ],
   "source": [
    "alpha/(alpha+beta)"
   ]
  },
  {
   "cell_type": "code",
   "execution_count": 42,
   "metadata": {},
   "outputs": [
    {
     "data": {
      "text/plain": [
       "0.4965525845246033"
      ]
     },
     "execution_count": 42,
     "metadata": {},
     "output_type": "execute_result"
    }
   ],
   "source": [
    "np.mean(electoral_votes)"
   ]
  },
  {
   "cell_type": "code",
   "execution_count": 43,
   "metadata": {},
   "outputs": [],
   "source": [
    "def plot_beta(alpha, beta):\n",
    "    xs = np.arange(0,1,.0001)\n",
    "    ys = []\n",
    "    for x in xs:\n",
    "        ys.append(stats.beta.pdf(x, alpha, beta))\n",
    "    plt.figure(figsize=(15,8))\n",
    "    plt.plot(xs, ys, linestyle='-', label='beta distribution')"
   ]
  },
  {
   "cell_type": "code",
   "execution_count": 44,
   "metadata": {},
   "outputs": [
    {
     "data": {
      "text/plain": [
       "<matplotlib.legend.Legend at 0x7fd6e39ad6a0>"
      ]
     },
     "execution_count": 44,
     "metadata": {},
     "output_type": "execute_result"
    },
    {
     "data": {
      "image/png": "[encoded data removed]",
      "text/plain": [
       "<Figure size 1080x576 with 1 Axes>"
      ]
     },
     "metadata": {
      "needs_background": "light"
     },
     "output_type": "display_data"
    }
   ],
   "source": [
    "sns.set_context('talk')\n",
    "plt.rcParams['font.size']=15\n",
    "plot_beta(alpha, beta)\n",
    "plt.hist(electoral_votes, density=True, label='data')\n",
    "plt.xlabel('Fraction of Electoral Votes Won')\n",
    "plt.ylabel('Frequency')\n",
    "plt.title('Fraction of Electoral College Votes Won \\nin All Presidential Elections 1912-2020')\n",
    "plt.legend()\n",
    "# plt.savefig('images/beta_over_hist.png')"
   ]
  },
  {
   "cell_type": "code",
   "execution_count": 45,
   "metadata": {},
   "outputs": [],
   "source": [
    "biden = [3, 0, 16-3, 0, 63-16, 77-63, 115-77, 0, 0, 0, 126-115, 205-126, 206-205, 210-206, 0, 214-210, 0, 225-214, 227-225, 0, 237-227, 253-237, 273-253, 16+11+6]\n",
    "trump = [0, 5, 13-5, 24-13, 90-24, 96-90, 120-96, 129-120, 138-129, 144-138, 0, 0, 162-144, 166-162, 204-166, 210-204, 213-210, 0, 0, 214-213, 0, 0, 0, 15+3]\n",
    "updates = ['VT', 'WV', 'VA', 'IN', 'FL', 'MD', 'CO', 'SC', 'ND, SD', '', '', 'NY', 'CA', 'ME', 'OH', 'ID', '', 'CT', 'MT', 'MN', 'ME', 'ME', 'WI', 'PA', 'GA, NC', '']"
   ]
  },
  {
   "cell_type": "code",
   "execution_count": 46,
   "metadata": {},
   "outputs": [],
   "source": [
    "sf=1\n",
    "\n",
    "trump_beta = [(sf*alpha, sf*beta)]\n",
    "biden_beta = [(sf*alpha, sf*beta)]\n",
    "\n",
    "for i in range(len(trump)):\n",
    "    #new alpha and beta for trump\n",
    "    a, b = trump_beta[i]\n",
    "    trump_beta.append((a+trump[i], b+biden[i]))\n",
    "    \n",
    "    a, b = biden_beta[i]\n",
    "    biden_beta.append((a+biden[i], b+trump[i]))\n"
   ]
  },
  {
   "cell_type": "code",
   "execution_count": 47,
   "metadata": {},
   "outputs": [],
   "source": [
    "xs = range(len(trump)+1)\n",
    "ys_trump = []\n",
    "ys_biden = []\n",
    "for i in range(len(trump_beta)):\n",
    "    a,b = trump_beta[i]\n",
    "    ys_trump.append(a/(a+b))\n",
    "#     ys_trump.append(1 - stats.beta.cdf(.5, a, b))\n",
    "    a,b = biden_beta[i]\n",
    "    ys_biden.append(a/(a+b))\n",
    "#     ys_biden.append(1 - stats.beta.cdf(.5, a, b))"
   ]
  },
  {
   "cell_type": "code",
   "execution_count": 48,
   "metadata": {},
   "outputs": [
    {
     "data": {
      "image/png": "[encoded data removed]",
      "text/plain": [
       "<Figure size 1080x576 with 1 Axes>"
      ]
     },
     "metadata": {
      "needs_background": "light"
     },
     "output_type": "display_data"
    }
   ],
   "source": [
    "sns.set_context('talk')\n",
    "plt.rcParams['font.size']=15\n",
    "plt.figure(figsize=(15,8))\n",
    "plt.plot(xs, ys_trump, color='red', lw=3, label='Trump')\n",
    "plt.plot(xs, ys_biden, color='blue', lw=3, label='Biden')\n",
    "plt.legend()\n",
    "plt.xlabel('Relative Timeline of State Electoral Votes')\n",
    "plt.ylabel('Fraction of Votes Expected to Win')\n",
    "plt.title('Beta Distribution: Live Updating of Presidential Election Results 2020')\n",
    "plt.xticks(np.arange(26), updates, fontsize='small')\n",
    "plt.ylim(0,1)\n",
    "plt.savefig('images/beta_election_updating.png')"
   ]
  },
  {
   "cell_type": "code",
   "execution_count": null,
   "metadata": {},
   "outputs": [],
   "source": []
  }
 ],
 "metadata": {
  "kernelspec": {
   "display_name": "Python 3",
   "language": "python",
   "name": "python3"
  },
  "language_info": {
   "codemirror_mode": {
    "name": "ipython",
    "version": 3
   },
   "file_extension": ".py",
   "mimetype": "text/x-python",
   "name": "python",
   "nbconvert_exporter": "python",
   "pygments_lexer": "ipython3",
   "version": "3.8.5"
  }
 },
 "nbformat": 4,
 "nbformat_minor": 4
}
